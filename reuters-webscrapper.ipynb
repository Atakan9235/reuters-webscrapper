{
 "cells": [
  {
   "cell_type": "code",
   "execution_count": 5,
   "id": "a711fb73-84d2-46b2-8c55-887b8ee0915a",
   "metadata": {},
   "outputs": [
    {
     "name": "stdout",
     "output_type": "stream",
     "text": [
      "World Bank hopes China will boost donation to fund for poorest countries\n",
      "Blinken says renewed U.S.-Greece defense deal to advance stability in Eastern Mediterranean\n",
      "World's tallest woman says it's OK to stand out\n",
      "'Our whole life depends on water': Climate change, pollution and dams threaten Iraq’s Marsh Arabs\n",
      "Taliban want to help Afghans who fled to Turkey to return home, Turkish minister says\n",
      "EXCLUSIVE Abu Dhabi's IHC to IPO subsidiary Multiply this year, CEO says\n",
      "Turkey expands armed drone sales to Ethiopia and Morocco - sources\n",
      "EXCLUSIVE Turkey set to receive 3.1 bln euro loans to help Paris climate goals -sources\n",
      "Factbox: Revolving door: personnel changes at Turkey's central bank\n",
      "Britain's chicken king says the 20-year binge on cheap food is over\n"
     ]
    }
   ],
   "source": [
    "from selenium import webdriver\n",
    "import time\n",
    "browser=webdriver.Firefox()\n",
    "from selenium.webdriver.common.keys import Keys\n",
    "import requests\n",
    "from bs4 import BeautifulSoup\n",
    "import warnings\n",
    "warnings.filterwarnings('ignore')\n",
    "browser.get('https://www.reuters.com/')\n",
    "ypro=browser.find_element_by_xpath(\"//*[@id='fusion-app']/div/div[1]/header/div/div[2]/button[1]\")\n",
    "ypro.click()\n",
    "time.sleep(1)\n",
    "ypro=browser.find_element_by_xpath(\"//*[@id='fusion-app']/div/div[1]/header/div/div[2]/div/input\")\n",
    "ypro.clear()\n",
    "ypro.send_keys('turkey')\n",
    "time.sleep(1)\n",
    "ypro.send_keys(Keys.ENTER)\n",
    "time.sleep(2)\n",
    "for u in range(0,10):\n",
    "    kx=u+1\n",
    "    yazi='/html/body/div[1]/div/div[2]/div[2]/div/div[2]/div[2]/ul/li[1]/a/div[1]/h6'\n",
    "    new = list(yazi)\n",
    "    new[60]=kx\n",
    "    str1 = ''.join(str(e) for e in new)\n",
    "    kk=browser.find_element_by_xpath(str1)\n",
    "    print(kk.text)\n",
    "\n",
    "    \n",
    "\n",
    "\n",
    "time.sleep(10)\n",
    "browser.quit()"
   ]
  },
  {
   "cell_type": "code",
   "execution_count": null,
   "id": "51b3bd30-cad1-4748-a9d7-d817685a12db",
   "metadata": {},
   "outputs": [],
   "source": []
  },
  {
   "cell_type": "code",
   "execution_count": null,
   "id": "4a3eecce-78f0-4c17-a3f5-21b03e35510a",
   "metadata": {},
   "outputs": [],
   "source": []
  },
  {
   "cell_type": "code",
   "execution_count": null,
   "id": "c6ea6331-0f77-4041-a387-007d24b96adf",
   "metadata": {},
   "outputs": [],
   "source": []
  },
  {
   "cell_type": "code",
   "execution_count": null,
   "id": "3812b39a-383e-4785-a350-0eda6e84e33c",
   "metadata": {},
   "outputs": [],
   "source": []
  },
  {
   "cell_type": "code",
   "execution_count": null,
   "id": "28d8b8e5-9400-43b4-8af1-d134df2ad00a",
   "metadata": {},
   "outputs": [],
   "source": []
  },
  {
   "cell_type": "code",
   "execution_count": null,
   "id": "5825baf2-60f5-46e2-bac1-09f7e5da2978",
   "metadata": {},
   "outputs": [],
   "source": []
  }
 ],
 "metadata": {
  "kernelspec": {
   "display_name": "Python 3",
   "language": "python",
   "name": "python3"
  },
  "language_info": {
   "codemirror_mode": {
    "name": "ipython",
    "version": 3
   },
   "file_extension": ".py",
   "mimetype": "text/x-python",
   "name": "python",
   "nbconvert_exporter": "python",
   "pygments_lexer": "ipython3",
   "version": "3.8.8"
  }
 },
 "nbformat": 4,
 "nbformat_minor": 5
}
